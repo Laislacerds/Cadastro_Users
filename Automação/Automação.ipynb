{
 "cells": [
  {
   "cell_type": "code",
   "execution_count": 1,
   "id": "7a911bdd-27ca-4645-8dad-c4254223584c",
   "metadata": {
    "tags": []
   },
   "outputs": [],
   "source": [
    "import pyautogui as py\n",
    "import time as tm "
   ]
  },
  {
   "cell_type": "code",
   "execution_count": 13,
   "id": "00390fd9-98c4-4c4f-b96f-758abfcc2c95",
   "metadata": {
    "tags": []
   },
   "outputs": [],
   "source": [
    "tm.sleep(4)\n",
    "py.click(x=189, y=17)\n",
    "\n",
    "tm.sleep(4)\n",
    "py.click(x=691, y=299)\n",
    "py.write(\"Ana Luiza da Silva Santos\")\n",
    "\n",
    "tm.sleep(4)\n",
    "py.click(x=614, y=366)\n",
    "py.write(\"ana.luiza@teste.com\")\n",
    "\n",
    "\n",
    "tm.sleep(4)\n",
    "py.click(x=526, y=430)\n",
    "py.write(\"35182-066\")\n",
    "\n",
    "\n",
    "tm.sleep(4)\n",
    "py.click(x=568, y=495)\n",
    "py.write(\"Secur7!\")\n",
    "\n",
    "tm.sleep(4)\n",
    "py.click(x=490, y=528)\n",
    "\n",
    "tm.sleep(4)\n",
    "py.click(x=548, y=587)"
   ]
  },
  {
   "cell_type": "code",
   "execution_count": 9,
   "id": "6091eb6d-a570-4b6c-82b1-d2024e9d9663",
   "metadata": {},
   "outputs": [
    {
     "data": {
      "text/plain": [
       "Point(x=548, y=587)"
      ]
     },
     "execution_count": 9,
     "metadata": {},
     "output_type": "execute_result"
    }
   ],
   "source": [
    "tm.sleep(6)\n",
    "py.position()"
   ]
  },
  {
   "cell_type": "raw",
   "id": "8114c2ec-2bdc-425f-99b9-7faafaeda8f4",
   "metadata": {},
   "source": []
  },
  {
   "cell_type": "markdown",
   "id": "a3811737-850c-4d7c-a7d2-9fe4f7fd1b2b",
   "metadata": {},
   "source": []
  },
  {
   "cell_type": "code",
   "execution_count": 12,
   "id": "bd522330-b324-4657-8d64-5b46847d4789",
   "metadata": {
    "tags": []
   },
   "outputs": [
    {
     "data": {
      "text/plain": [
       "Point(x=189, y=17)"
      ]
     },
     "execution_count": 12,
     "metadata": {},
     "output_type": "execute_result"
    }
   ],
   "source": []
  },
  {
   "cell_type": "raw",
   "id": "8461db5a-7259-46d3-bcaa-5cca0329acb2",
   "metadata": {
    "tags": []
   },
   "source": []
  },
  {
   "cell_type": "markdown",
   "id": "58d1b08a-2774-4c59-b765-bcfc6b904fa9",
   "metadata": {},
   "source": []
  },
  {
   "cell_type": "code",
   "execution_count": 13,
   "id": "9d31e65d-66e8-4426-aa28-ab008295a836",
   "metadata": {
    "tags": []
   },
   "outputs": [
    {
     "data": {
      "text/plain": [
       "Point(x=723, y=742)"
      ]
     },
     "execution_count": 13,
     "metadata": {},
     "output_type": "execute_result"
    }
   ],
   "source": []
  },
  {
   "cell_type": "code",
   "execution_count": 25,
   "id": "4e1ed1d6-93a1-46ac-9387-5fcc8297e0b8",
   "metadata": {},
   "outputs": [],
   "source": []
  },
  {
   "cell_type": "code",
   "execution_count": 34,
   "id": "a90493e2-569b-4c8e-b43a-6ac0acb07744",
   "metadata": {},
   "outputs": [],
   "source": []
  },
  {
   "cell_type": "code",
   "execution_count": null,
   "id": "3256af1b-bb18-431c-b3c5-6db0296802b8",
   "metadata": {},
   "outputs": [],
   "source": []
  },
  {
   "cell_type": "code",
   "execution_count": null,
   "id": "59b3b819-7632-43db-bea9-1ec34cfe2c15",
   "metadata": {},
   "outputs": [],
   "source": []
  },
  {
   "cell_type": "code",
   "execution_count": null,
   "id": "c1ca84aa-c71f-43d6-a339-10dd050c1acf",
   "metadata": {},
   "outputs": [],
   "source": []
  },
  {
   "cell_type": "code",
   "execution_count": null,
   "id": "39640fa8-b8c5-4dbb-b1e6-71e862d5a53e",
   "metadata": {},
   "outputs": [],
   "source": []
  },
  {
   "cell_type": "code",
   "execution_count": null,
   "id": "7ae357d8-5da6-42e7-ae59-39c0b8346d3e",
   "metadata": {},
   "outputs": [],
   "source": []
  },
  {
   "cell_type": "code",
   "execution_count": null,
   "id": "33a07b14-bf37-44c8-98b8-47dd0df679f3",
   "metadata": {},
   "outputs": [],
   "source": []
  },
  {
   "cell_type": "code",
   "execution_count": null,
   "id": "72372040-e07c-4626-9f5f-f1808783aae0",
   "metadata": {},
   "outputs": [],
   "source": []
  },
  {
   "cell_type": "code",
   "execution_count": null,
   "id": "3687418e-a4e9-44ee-a1c8-febddfef66bb",
   "metadata": {},
   "outputs": [],
   "source": []
  },
  {
   "cell_type": "code",
   "execution_count": null,
   "id": "a2be54ef-2e76-46f5-ae3e-fca56032db3d",
   "metadata": {},
   "outputs": [],
   "source": []
  },
  {
   "cell_type": "code",
   "execution_count": null,
   "id": "4a0cc4e6-7f0b-43c6-8674-991457ca1fe7",
   "metadata": {},
   "outputs": [],
   "source": []
  }
 ],
 "metadata": {
  "kernelspec": {
   "display_name": "Python 3 (ipykernel)",
   "language": "python",
   "name": "python3"
  },
  "language_info": {
   "codemirror_mode": {
    "name": "ipython",
    "version": 3
   },
   "file_extension": ".py",
   "mimetype": "text/x-python",
   "name": "python",
   "nbconvert_exporter": "python",
   "pygments_lexer": "ipython3",
   "version": "3.11.4"
  }
 },
 "nbformat": 4,
 "nbformat_minor": 5
}
